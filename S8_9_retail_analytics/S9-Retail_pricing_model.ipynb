{
  "nbformat": 4,
  "nbformat_minor": 0,
  "metadata": {
    "kernelspec": {
      "name": "python3",
      "display_name": "Python 3"
    },
    "varInspector": {
      "cols": {
        "lenName": 16,
        "lenType": 16,
        "lenVar": 40
      },
      "kernels_config": {
        "python": {
          "delete_cmd_postfix": "",
          "delete_cmd_prefix": "del ",
          "library": "var_list.py",
          "varRefreshCmd": "print(var_dic_list())"
        },
        "r": {
          "delete_cmd_postfix": ") ",
          "delete_cmd_prefix": "rm(",
          "library": "var_list.r",
          "varRefreshCmd": "cat(var_dic_list()) "
        }
      },
      "types_to_exclude": [
        "module",
        "function",
        "builtin_function_or_method",
        "instance",
        "_Feature"
      ],
      "window_display": false
    },
    "colab": {
      "name": "S9-Retail_analytics_pricing_model.ipynb",
      "provenance": [],
      "include_colab_link": true
    }
  },
  "cells": [
    {
      "cell_type": "markdown",
      "metadata": {
        "id": "view-in-github",
        "colab_type": "text"
      },
      "source": [
        "<a href=\"https://colab.research.google.com/github/acedesci/scanalytics/blob/master/S8_9_retail_analytics/S9-Retail_pricing_model.ipynb\" target=\"_parent\"><img src=\"https://colab.research.google.com/assets/colab-badge.svg\" alt=\"Open In Colab\"/></a>"
      ]
    },
    {
      "cell_type": "code",
      "metadata": {
        "id": "mqpA010UcsJO",
        "colab_type": "code",
        "outputId": "16f67cef-44c0-4e23-aeb7-17828b99e5cc",
        "colab": {
          "base_uri": "https://localhost:8080/",
          "height": 85
        }
      },
      "source": [
        "!pip install -q pyomo\n",
        "from pyomo.environ import *\n",
        "from pyomo.gdp import *"
      ],
      "execution_count": 0,
      "outputs": [
        {
          "output_type": "stream",
          "text": [
            "\u001b[K     |████████████████████████████████| 2.4MB 2.8MB/s \n",
            "\u001b[K     |████████████████████████████████| 256kB 25.2MB/s \n",
            "\u001b[K     |████████████████████████████████| 51kB 5.9MB/s \n",
            "\u001b[K     |████████████████████████████████| 163kB 24.7MB/s \n",
            "\u001b[?25h"
          ],
          "name": "stdout"
        }
      ]
    },
    {
      "cell_type": "code",
      "metadata": {
        "id": "S2sO9LKmctDR",
        "colab_type": "code",
        "colab": {}
      },
      "source": [
        "import pandas as pd\n",
        "import numpy as np\n",
        "from collections import OrderedDict\n",
        "import pickle"
      ],
      "execution_count": 0,
      "outputs": []
    },
    {
      "cell_type": "code",
      "metadata": {
        "id": "vCGRfZIpcsJW",
        "colab_type": "code",
        "outputId": "8bf94bf4-fc7c-4a12-c798-416fe919499f",
        "colab": {
          "base_uri": "https://localhost:8080/",
          "height": 68
        }
      },
      "source": [
        "url = 'https://raw.githubusercontent.com/acedesci/scanalytics/master/S8_9_retail_analytics/salesCereals.csv'\n",
        "salesCereals = pd.read_csv(url)\n",
        "salesCereals['WEEK_END_DATE'] = pd.to_datetime(salesCereals['WEEK_END_DATE'])\n",
        "salesCereals['UPC'] = salesCereals['UPC'].astype(str)\n",
        "\n",
        "productList = list(salesCereals['UPC'].unique())\n",
        "print(productList)\n",
        "\n",
        "feature_list = ['PRICE', 'FEATURE', 'DISPLAY','TPR_ONLY','RELPRICE']\n",
        "\n",
        "#take the point at the date of the end of the training set of UPC[0]\n",
        "i = 0\n",
        "productDataSize = len(salesCereals.loc[salesCereals['UPC']==productList[i]][feature_list].values)\n",
        "train_size = int(productDataSize * 0.70)\n",
        "print(\"N.Points[i=\"+str(i)+\"]:\" + str(productDataSize)+\", N.TrainPoints[\" + str(i) + \"]:\" + str(train_size))\n",
        "dateReference = salesCereals.iloc[train_size]['WEEK_END_DATE']\n",
        "print(dateReference)    \n",
        "\n"
      ],
      "execution_count": 0,
      "outputs": [
        {
          "output_type": "stream",
          "text": [
            "['1111085319', '1111085350', '1600027527', '1600027528', '1600027564', '3000006340', '3800031829']\n",
            "N.Points[i=0]:156, N.TrainPoints[0]:109\n",
            "2009-04-29 00:00:00\n"
          ],
          "name": "stdout"
        }
      ]
    },
    {
      "cell_type": "code",
      "metadata": {
        "id": "EZ1zb9CVcsJa",
        "colab_type": "code",
        "outputId": "e3f31b1f-59d5-4437-e86e-127ded397685",
        "colab": {
          "base_uri": "https://localhost:8080/",
          "height": 198
        }
      },
      "source": [
        "regr = OrderedDict()\n",
        "for upc in productList:\n",
        "    filename = './'+str(upc)+'_tree_model.sav'\n",
        "    # load the model from disk\n",
        "    regr[upc] = pickle.load(open(filename, 'rb'))"
      ],
      "execution_count": 0,
      "outputs": [
        {
          "output_type": "error",
          "ename": "FileNotFoundError",
          "evalue": "ignored",
          "traceback": [
            "\u001b[0;31m---------------------------------------------------------------------------\u001b[0m",
            "\u001b[0;31mFileNotFoundError\u001b[0m                         Traceback (most recent call last)",
            "\u001b[0;32m<ipython-input-4-94934243bb3e>\u001b[0m in \u001b[0;36m<module>\u001b[0;34m()\u001b[0m\n\u001b[1;32m      3\u001b[0m     \u001b[0mfilename\u001b[0m \u001b[0;34m=\u001b[0m \u001b[0;34m'./'\u001b[0m\u001b[0;34m+\u001b[0m\u001b[0mstr\u001b[0m\u001b[0;34m(\u001b[0m\u001b[0mupc\u001b[0m\u001b[0;34m)\u001b[0m\u001b[0;34m+\u001b[0m\u001b[0;34m'_tree_model.sav'\u001b[0m\u001b[0;34m\u001b[0m\u001b[0;34m\u001b[0m\u001b[0m\n\u001b[1;32m      4\u001b[0m     \u001b[0;31m# load the model from disk\u001b[0m\u001b[0;34m\u001b[0m\u001b[0;34m\u001b[0m\u001b[0;34m\u001b[0m\u001b[0m\n\u001b[0;32m----> 5\u001b[0;31m     \u001b[0mregr\u001b[0m\u001b[0;34m[\u001b[0m\u001b[0mupc\u001b[0m\u001b[0;34m]\u001b[0m \u001b[0;34m=\u001b[0m \u001b[0mpickle\u001b[0m\u001b[0;34m.\u001b[0m\u001b[0mload\u001b[0m\u001b[0;34m(\u001b[0m\u001b[0mopen\u001b[0m\u001b[0;34m(\u001b[0m\u001b[0mfilename\u001b[0m\u001b[0;34m,\u001b[0m \u001b[0;34m'rb'\u001b[0m\u001b[0;34m)\u001b[0m\u001b[0;34m)\u001b[0m\u001b[0;34m\u001b[0m\u001b[0;34m\u001b[0m\u001b[0m\n\u001b[0m",
            "\u001b[0;31mFileNotFoundError\u001b[0m: [Errno 2] No such file or directory: './1111085319_tree_model.sav'"
          ]
        }
      ]
    },
    {
      "cell_type": "code",
      "metadata": {
        "id": "AICmaAFJcsJd",
        "colab_type": "code",
        "outputId": "150dc593-2cfb-42ba-def3-222fc4b84283",
        "colab": {}
      },
      "source": [
        "# get the row of max date value\n",
        "latestBasePrice = salesCereals.loc[salesCereals['WEEK_END_DATE'] == dateReference][['UPC','BASE_PRICE']]\n",
        "latestBasePrice.set_index('UPC', inplace=True)\n",
        "print(latestBasePrice)"
      ],
      "execution_count": 0,
      "outputs": [
        {
          "output_type": "stream",
          "text": [
            "            BASE_PRICE\n",
            "UPC                   \n",
            "1111085319        1.89\n",
            "1111085350        2.39\n",
            "1600027527        3.19\n",
            "1600027528        4.59\n",
            "1600027564        3.19\n",
            "3000006340        2.74\n",
            "3800031829        3.29\n"
          ],
          "name": "stdout"
        }
      ]
    },
    {
      "cell_type": "code",
      "metadata": {
        "id": "xke4J96-csJh",
        "colab_type": "code",
        "outputId": "241ee2a4-b777-404b-b0fd-3cc9c4ce1915",
        "colab": {}
      },
      "source": [
        "priceStepSize = [0.5, 0.6, 0.7, 0.8, 0.9, 1.0, 1.1, 1.2, 1.3]\n",
        "\n",
        "priceOptions = {}\n",
        "\n",
        "for k in latestBasePrice.index:\n",
        "    priceOptions[k] = [p*latestBasePrice.loc[k]['BASE_PRICE'] for p in priceStepSize]\n",
        "    #priceOptions.append([p*latestBasePrice.loc[k]['BASE_PRICE'] for p in priceStepSize])\n",
        "    #print(type(priceStepSize))\n",
        "\n",
        "sumPrice = sum(latestBasePrice['BASE_PRICE'].values)\n",
        "print('sumPrice:' +str(sumPrice))\n",
        "\n",
        "X_input_pd = []\n",
        "\n",
        "for upc in productList:\n",
        "    i = productList.index(upc)\n",
        "    for p in range(len(priceStepSize)):\n",
        "        X_input_pd.append([upc]+[priceStepSize[p]]+[priceOptions[upc][p]] + [0,0,0] + [priceOptions[upc][p]/sumPrice])\n",
        "\n",
        "X_input_pd = pd.DataFrame(X_input_pd,columns = ['UPC', 'OPTION'] + feature_list)\n",
        "#print(X_input_pd)\n",
        "\n",
        "X_input = OrderedDict()\n",
        "\n",
        "for upc in productList:\n",
        "    X_input[upc] = X_input_pd.loc[X_input_pd['UPC']==upc][feature_list].values\n",
        "    \n",
        "    # Predicted sales cannot be negative\n",
        "    y_pred[upc] = np.maximum(regr[upc].predict(X_input[upc]), 0.0)\n",
        "    \n",
        "    print(reversed(range(1, len(y_pred[upc]))))\n",
        "    \n",
        "    # N.Units must be a monotonic decreasing function of price\n",
        "    for ind in reversed(range(1, len(y_pred[upc]))):\n",
        "        if(y_pred[upc][ind] > y_pred[upc][ind - 1]):\n",
        "               y_pred[upc][ind - 1] = y_pred[upc][ind]\n",
        "    \n",
        "    print('UPC['+str(upc)+']: '+str(y_pred[upc])+\"\\n\")\n",
        "\n",
        "\n",
        "print(list(X_input.keys()))"
      ],
      "execution_count": 0,
      "outputs": [
        {
          "output_type": "stream",
          "text": [
            "sumPrice:21.28\n",
            "<range_iterator object at 0x0000021D8A00BC70>\n",
            "UPC[1111085319]: [19. 19. 19. 19. 19. 19. 19. 19. 19.]\n",
            "\n",
            "<range_iterator object at 0x0000021D8A00BD50>\n",
            "UPC[1111085350]: [24.         24.         24.         24.         24.         13.76190476\n",
            " 13.76190476 13.76190476 13.76190476]\n",
            "\n",
            "<range_iterator object at 0x0000021D8A00BF30>\n",
            "UPC[1600027527]: [33.      33.      16.21875 16.21875 16.21875 11.5     11.5     11.5\n",
            " 11.5    ]\n",
            "\n",
            "<range_iterator object at 0x0000021D8A00BB50>\n",
            "UPC[1600027528]: [76. 76. 31. 31. 31. 31. 31. 31. 31.]\n",
            "\n",
            "<range_iterator object at 0x0000021D8A00BCD0>\n",
            "UPC[1600027564]: [21.83908046 21.83908046 21.83908046 21.83908046 21.83908046 21.83908046\n",
            " 21.83908046 21.83908046 21.83908046]\n",
            "\n",
            "<range_iterator object at 0x0000021D8A00BE90>\n",
            "UPC[3000006340]: [24. 24. 24. 24. 24. 24. 24. 24. 24.]\n",
            "\n",
            "<range_iterator object at 0x0000021D8A00BD70>\n",
            "UPC[3800031829]: [26.         26.         26.         26.         25.56818182 25.56818182\n",
            " 20.         20.         20.        ]\n",
            "\n",
            "['1111085319', '1111085350', '1600027527', '1600027528', '1600027564', '3000006340', '3800031829']\n"
          ],
          "name": "stdout"
        }
      ]
    },
    {
      "cell_type": "code",
      "metadata": {
        "id": "fNDQixuecsJp",
        "colab_type": "code",
        "outputId": "a1f884d2-e7ea-43a3-aa16-8a45fcdf1085",
        "colab": {}
      },
      "source": [
        "\n",
        "from pyomo.environ import *\n",
        "from pyomo.gdp import *\n",
        "\n",
        "model = ConcreteModel()\n",
        "\n",
        "print(list(range(len(productList))))\n",
        "\n",
        "iIndexList = list(range(len(productList)))\n",
        "jIndexList = list(range(len(priceStepSize)))\n",
        "\n",
        "# Variables\n",
        "model.x = Var(productList, jIndexList, within = Binary)\n",
        "\n",
        "# Objective function\n",
        "def ObjRule(model):\n",
        "    return sum(model.x[upc,j]*priceOptions[upc][j]*y_pred[upc][j] \\\n",
        "               for upc in productList for j in jIndexList)\n",
        "    \n",
        "model.opt = Objective(rule=ObjRule, sense=maximize)\n",
        "\n",
        "# Constraints\n",
        "# Constraints 1: choose one price option\n",
        "model.allFinish = ConstraintList()\n",
        "for upc in productList:\n",
        "    model.allFinish.add(sum(model.x[upc, j] for j in jIndexList)==1)\n",
        "\n",
        "# Constraints 2: allowable range for the sum of price\n",
        "model.allFinish.add(sum(model.x[upc,j]*priceOptions[upc][j] \\\n",
        "                    for upc in productList for j in jIndexList) >= sumPrice*0.95)\n",
        "model.allFinish.add(sum(model.x[upc,j]*priceOptions[upc][j] \\\n",
        "                    for upc in productList for j in jIndexList) <= sumPrice*0.95)\n",
        "\n",
        "#model.pprint()\n"
      ],
      "execution_count": 0,
      "outputs": [
        {
          "output_type": "stream",
          "text": [
            "[0, 1, 2, 3, 4, 5, 6]\n"
          ],
          "name": "stdout"
        }
      ]
    },
    {
      "cell_type": "code",
      "metadata": {
        "id": "hw7gHVk-csJt",
        "colab_type": "code",
        "outputId": "2a9c7042-de5d-4367-a02a-031e189a2012",
        "colab": {}
      },
      "source": [
        ""
      ],
      "execution_count": 0,
      "outputs": [
        {
          "output_type": "stream",
          "text": [
            "WARNING: Implicitly replacing the Component attribute allFinish (type=<class\n",
            "    'pyomo.core.base.constraint.ConstraintList'>) on block unknown with a new\n",
            "    Component (type=<class 'pyomo.core.base.constraint.ConstraintList'>). This\n",
            "    is usually indicative of a modelling error. To avoid this warning, use\n",
            "    block.del_component() and block.add_component().\n"
          ],
          "name": "stdout"
        },
        {
          "output_type": "error",
          "ename": "RuntimeError",
          "evalue": "Cannot add component 'allFinish_index' (type <class 'pyomo.core.base.sets.SimpleSet'>) to block 'unknown': a component by that name (type <class 'pyomo.core.base.sets.SimpleSet'>) is already defined.",
          "traceback": [
            "\u001b[1;31m---------------------------------------------------------------------------\u001b[0m",
            "\u001b[1;31mRuntimeError\u001b[0m                              Traceback (most recent call last)",
            "\u001b[1;32m<ipython-input-71-02b719133d12>\u001b[0m in \u001b[0;36m<module>\u001b[1;34m\u001b[0m\n\u001b[0;32m      1\u001b[0m \u001b[1;31m# Constraints\u001b[0m\u001b[1;33m\u001b[0m\u001b[1;33m\u001b[0m\u001b[1;33m\u001b[0m\u001b[0m\n\u001b[0;32m      2\u001b[0m \u001b[1;31m# Constraints 1: choose one price option\u001b[0m\u001b[1;33m\u001b[0m\u001b[1;33m\u001b[0m\u001b[1;33m\u001b[0m\u001b[0m\n\u001b[1;32m----> 3\u001b[1;33m \u001b[0mmodel\u001b[0m\u001b[1;33m.\u001b[0m\u001b[0mallFinish\u001b[0m \u001b[1;33m=\u001b[0m \u001b[0mConstraintList\u001b[0m\u001b[1;33m(\u001b[0m\u001b[1;33m)\u001b[0m\u001b[1;33m\u001b[0m\u001b[1;33m\u001b[0m\u001b[0m\n\u001b[0m\u001b[0;32m      4\u001b[0m \u001b[1;32mfor\u001b[0m \u001b[0mupc\u001b[0m \u001b[1;32min\u001b[0m \u001b[0mproductList\u001b[0m\u001b[1;33m:\u001b[0m\u001b[1;33m\u001b[0m\u001b[1;33m\u001b[0m\u001b[0m\n\u001b[0;32m      5\u001b[0m     \u001b[0mmodel\u001b[0m\u001b[1;33m.\u001b[0m\u001b[0mallFinish\u001b[0m\u001b[1;33m.\u001b[0m\u001b[0madd\u001b[0m\u001b[1;33m(\u001b[0m\u001b[0msum\u001b[0m\u001b[1;33m(\u001b[0m\u001b[0mmodel\u001b[0m\u001b[1;33m.\u001b[0m\u001b[0mx\u001b[0m\u001b[1;33m[\u001b[0m\u001b[0mupc\u001b[0m\u001b[1;33m,\u001b[0m \u001b[0mj\u001b[0m\u001b[1;33m]\u001b[0m \u001b[1;32mfor\u001b[0m \u001b[0mj\u001b[0m \u001b[1;32min\u001b[0m \u001b[0mjIndexList\u001b[0m\u001b[1;33m)\u001b[0m\u001b[1;33m==\u001b[0m\u001b[1;36m1\u001b[0m\u001b[1;33m)\u001b[0m\u001b[1;33m\u001b[0m\u001b[1;33m\u001b[0m\u001b[0m\n",
            "\u001b[1;32mD:\\Anaconda3\\envs\\pyomov2\\lib\\site-packages\\pyomo\\core\\base\\block.py\u001b[0m in \u001b[0;36m__setattr__\u001b[1;34m(self, name, val)\u001b[0m\n\u001b[0;32m    596\u001b[0m                        type(val)))\n\u001b[0;32m    597\u001b[0m                 \u001b[0mself\u001b[0m\u001b[1;33m.\u001b[0m\u001b[0mdel_component\u001b[0m\u001b[1;33m(\u001b[0m\u001b[0mname\u001b[0m\u001b[1;33m)\u001b[0m\u001b[1;33m\u001b[0m\u001b[1;33m\u001b[0m\u001b[0m\n\u001b[1;32m--> 598\u001b[1;33m                 \u001b[0mself\u001b[0m\u001b[1;33m.\u001b[0m\u001b[0madd_component\u001b[0m\u001b[1;33m(\u001b[0m\u001b[0mname\u001b[0m\u001b[1;33m,\u001b[0m \u001b[0mval\u001b[0m\u001b[1;33m)\u001b[0m\u001b[1;33m\u001b[0m\u001b[1;33m\u001b[0m\u001b[0m\n\u001b[0m\u001b[0;32m    599\u001b[0m             \u001b[1;32melse\u001b[0m\u001b[1;33m:\u001b[0m\u001b[1;33m\u001b[0m\u001b[1;33m\u001b[0m\u001b[0m\n\u001b[0;32m    600\u001b[0m                 \u001b[1;31m#\u001b[0m\u001b[1;33m\u001b[0m\u001b[1;33m\u001b[0m\u001b[1;33m\u001b[0m\u001b[0m\n",
            "\u001b[1;32mD:\\Anaconda3\\envs\\pyomov2\\lib\\site-packages\\pyomo\\core\\base\\block.py\u001b[0m in \u001b[0;36madd_component\u001b[1;34m(self, name, val)\u001b[0m\n\u001b[0;32m    906\u001b[0m         \u001b[1;31m#\u001b[0m\u001b[1;33m\u001b[0m\u001b[1;33m\u001b[0m\u001b[1;33m\u001b[0m\u001b[0m\n\u001b[0;32m    907\u001b[0m         \u001b[1;32mif\u001b[0m \u001b[0mhasattr\u001b[0m\u001b[1;33m(\u001b[0m\u001b[0mval\u001b[0m\u001b[1;33m,\u001b[0m \u001b[1;34m'_index'\u001b[0m\u001b[1;33m)\u001b[0m\u001b[1;33m:\u001b[0m\u001b[1;33m\u001b[0m\u001b[1;33m\u001b[0m\u001b[0m\n\u001b[1;32m--> 908\u001b[1;33m             \u001b[0mself\u001b[0m\u001b[1;33m.\u001b[0m\u001b[0m_add_temporary_set\u001b[0m\u001b[1;33m(\u001b[0m\u001b[0mval\u001b[0m\u001b[1;33m)\u001b[0m\u001b[1;33m\u001b[0m\u001b[1;33m\u001b[0m\u001b[0m\n\u001b[0m\u001b[0;32m    909\u001b[0m         \u001b[1;31m#\u001b[0m\u001b[1;33m\u001b[0m\u001b[1;33m\u001b[0m\u001b[1;33m\u001b[0m\u001b[0m\n\u001b[0;32m    910\u001b[0m         \u001b[1;31m# Add the component to the underlying Component store\u001b[0m\u001b[1;33m\u001b[0m\u001b[1;33m\u001b[0m\u001b[1;33m\u001b[0m\u001b[0m\n",
            "\u001b[1;32mD:\\Anaconda3\\envs\\pyomov2\\lib\\site-packages\\pyomo\\core\\base\\block.py\u001b[0m in \u001b[0;36m_add_temporary_set\u001b[1;34m(self, val)\u001b[0m\n\u001b[0;32m    729\u001b[0m         \u001b[1;32mif\u001b[0m \u001b[0misinstance\u001b[0m\u001b[1;33m(\u001b[0m\u001b[0mval\u001b[0m\u001b[1;33m.\u001b[0m\u001b[0m_index\u001b[0m\u001b[1;33m,\u001b[0m \u001b[0m_SetDataBase\u001b[0m\u001b[1;33m)\u001b[0m \u001b[1;32mand\u001b[0m\u001b[0;31m \u001b[0m\u001b[0;31m\\\u001b[0m\u001b[1;33m\u001b[0m\u001b[1;33m\u001b[0m\u001b[0m\n\u001b[0;32m    730\u001b[0m                 \u001b[0mval\u001b[0m\u001b[1;33m.\u001b[0m\u001b[0m_index\u001b[0m\u001b[1;33m.\u001b[0m\u001b[0mparent_component\u001b[0m\u001b[1;33m(\u001b[0m\u001b[1;33m)\u001b[0m\u001b[1;33m.\u001b[0m\u001b[0mlocal_name\u001b[0m \u001b[1;33m==\u001b[0m \u001b[1;34m\"_unknown_\"\u001b[0m\u001b[1;33m:\u001b[0m\u001b[1;33m\u001b[0m\u001b[1;33m\u001b[0m\u001b[0m\n\u001b[1;32m--> 731\u001b[1;33m             \u001b[0mself\u001b[0m\u001b[1;33m.\u001b[0m\u001b[0m_construct_temporary_set\u001b[0m\u001b[1;33m(\u001b[0m\u001b[0mval\u001b[0m\u001b[1;33m.\u001b[0m\u001b[0m_index\u001b[0m\u001b[1;33m,\u001b[0m \u001b[0mval\u001b[0m\u001b[1;33m.\u001b[0m\u001b[0mlocal_name\u001b[0m \u001b[1;33m+\u001b[0m \u001b[1;34m\"_index\"\u001b[0m\u001b[1;33m)\u001b[0m\u001b[1;33m\u001b[0m\u001b[1;33m\u001b[0m\u001b[0m\n\u001b[0m\u001b[0;32m    732\u001b[0m         \u001b[1;32mif\u001b[0m \u001b[0misinstance\u001b[0m\u001b[1;33m(\u001b[0m\u001b[0mgetattr\u001b[0m\u001b[1;33m(\u001b[0m\u001b[0mval\u001b[0m\u001b[1;33m,\u001b[0m \u001b[1;34m'initialize'\u001b[0m\u001b[1;33m,\u001b[0m \u001b[1;32mNone\u001b[0m\u001b[1;33m)\u001b[0m\u001b[1;33m,\u001b[0m \u001b[0m_SetDataBase\u001b[0m\u001b[1;33m)\u001b[0m \u001b[1;32mand\u001b[0m\u001b[0;31m \u001b[0m\u001b[0;31m\\\u001b[0m\u001b[1;33m\u001b[0m\u001b[1;33m\u001b[0m\u001b[0m\n\u001b[0;32m    733\u001b[0m                 \u001b[0mval\u001b[0m\u001b[1;33m.\u001b[0m\u001b[0minitialize\u001b[0m\u001b[1;33m.\u001b[0m\u001b[0mparent_component\u001b[0m\u001b[1;33m(\u001b[0m\u001b[1;33m)\u001b[0m\u001b[1;33m.\u001b[0m\u001b[0mlocal_name\u001b[0m \u001b[1;33m==\u001b[0m \u001b[1;34m\"_unknown_\"\u001b[0m\u001b[1;33m:\u001b[0m\u001b[1;33m\u001b[0m\u001b[1;33m\u001b[0m\u001b[0m\n",
            "\u001b[1;32mD:\\Anaconda3\\envs\\pyomov2\\lib\\site-packages\\pyomo\\core\\base\\block.py\u001b[0m in \u001b[0;36m_construct_temporary_set\u001b[1;34m(self, obj, name)\u001b[0m\n\u001b[0;32m    753\u001b[0m                 \u001b[1;32mreturn\u001b[0m \u001b[0mtobj\u001b[0m\u001b[1;33m\u001b[0m\u001b[1;33m\u001b[0m\u001b[0m\n\u001b[0;32m    754\u001b[0m         \u001b[1;32melif\u001b[0m \u001b[0misinstance\u001b[0m\u001b[1;33m(\u001b[0m\u001b[0mobj\u001b[0m\u001b[1;33m,\u001b[0m \u001b[0mSet\u001b[0m\u001b[1;33m)\u001b[0m\u001b[1;33m:\u001b[0m\u001b[1;33m\u001b[0m\u001b[1;33m\u001b[0m\u001b[0m\n\u001b[1;32m--> 755\u001b[1;33m             \u001b[0mself\u001b[0m\u001b[1;33m.\u001b[0m\u001b[0madd_component\u001b[0m\u001b[1;33m(\u001b[0m\u001b[0mname\u001b[0m\u001b[1;33m,\u001b[0m \u001b[0mobj\u001b[0m\u001b[1;33m)\u001b[0m\u001b[1;33m\u001b[0m\u001b[1;33m\u001b[0m\u001b[0m\n\u001b[0m\u001b[0;32m    756\u001b[0m             \u001b[1;32mreturn\u001b[0m \u001b[0mobj\u001b[0m\u001b[1;33m\u001b[0m\u001b[1;33m\u001b[0m\u001b[0m\n\u001b[0;32m    757\u001b[0m         \u001b[1;32mraise\u001b[0m \u001b[0mException\u001b[0m\u001b[1;33m(\u001b[0m\u001b[1;34m\"BOGUS\"\u001b[0m\u001b[1;33m)\u001b[0m\u001b[1;33m\u001b[0m\u001b[1;33m\u001b[0m\u001b[0m\n",
            "\u001b[1;32mD:\\Anaconda3\\envs\\pyomov2\\lib\\site-packages\\pyomo\\core\\base\\block.py\u001b[0m in \u001b[0;36madd_component\u001b[1;34m(self, name, val)\u001b[0m\n\u001b[0;32m    860\u001b[0m                 \u001b[1;34m\"Cannot add component '%s' (type %s) to block '%s': a \"\u001b[0m\u001b[1;33m\u001b[0m\u001b[1;33m\u001b[0m\u001b[0m\n\u001b[0;32m    861\u001b[0m                 \u001b[1;34m\"component by that name (type %s) is already defined.\"\u001b[0m\u001b[1;33m\u001b[0m\u001b[1;33m\u001b[0m\u001b[0m\n\u001b[1;32m--> 862\u001b[1;33m                 % (name, type(val), self.name, type(getattr(self, name))))\n\u001b[0m\u001b[0;32m    863\u001b[0m         \u001b[1;31m#\u001b[0m\u001b[1;33m\u001b[0m\u001b[1;33m\u001b[0m\u001b[1;33m\u001b[0m\u001b[0m\n\u001b[0;32m    864\u001b[0m         \u001b[1;31m# Skip the add_component() logic if this is a\u001b[0m\u001b[1;33m\u001b[0m\u001b[1;33m\u001b[0m\u001b[1;33m\u001b[0m\u001b[0m\n",
            "\u001b[1;31mRuntimeError\u001b[0m: Cannot add component 'allFinish_index' (type <class 'pyomo.core.base.sets.SimpleSet'>) to block 'unknown': a component by that name (type <class 'pyomo.core.base.sets.SimpleSet'>) is already defined."
          ]
        }
      ]
    },
    {
      "cell_type": "code",
      "metadata": {
        "id": "lBnZYju5csJw",
        "colab_type": "code",
        "colab": {}
      },
      "source": [
        "#optimizer = SolverFactory('cbc',executable='C:/Program Files (x86)/COIN-OR/1.7.4/win32-msvc9/bin/cbc.exe')\n",
        "results = optimizer.solve(model)\n"
      ],
      "execution_count": 0,
      "outputs": []
    },
    {
      "cell_type": "code",
      "metadata": {
        "id": "l3T0ACtscsJ1",
        "colab_type": "code",
        "outputId": "188003d3-0050-4697-d341-c2b88f51cfbb",
        "colab": {}
      },
      "source": [
        "sequence_tuples = []\n",
        "totalRevenue = 0\n",
        "for i in model.x._data:\n",
        "    #if not model.x._data[i[0],i[1]].value is None:\n",
        "    if(value(model.x[i[0],i[1]]) > 0.0001):\n",
        "        sequence_tuples.append((i[1], i[0]))\n",
        "        print(\"x[\"+str(i[0])+\",\"+str(i[1])+\"]=\"+ str(model.x._data[i[0],i[1]].value))\n",
        "        \n",
        "        totalRevenue += value(model.x[i[0],i[1]])*priceOptions[i[0]][i[1]]*y_pred[i[0]][i[1]]\n",
        "        \n",
        "totalOriginalRevenue = sum(priceOptions[upc][priceStepSize.index(1.0)]*y_pred[i[0]][priceStepSize.index(1.0)] \\\n",
        "                                for upc in productList)\n",
        "        \n",
        "print('OBJ (optimized):'+\"{0:.2f}\".format(totalRevenue))\n",
        "print('OBJ (original):'+\"{0:.2f}\".format(totalOriginalRevenue))\n",
        "print('Revenue Increase:' + \"{0:.2f}\".format((totalRevenue-totalOriginalRevenue)/totalOriginalRevenue*100)+\"%\")"
      ],
      "execution_count": 0,
      "outputs": [
        {
          "output_type": "stream",
          "text": [
            "x[1111085319,8]=1.0\n",
            "x[1111085350,1]=1.0\n",
            "x[1600027527,1]=1.0\n",
            "x[1600027528,1]=1.0\n",
            "x[1600027564,8]=1.0\n",
            "x[3000006340,8]=1.0\n",
            "x[3800031829,7]=1.0\n",
            "OBJ (optimized):608.58\n",
            "OBJ (original):544.09\n",
            "Revenue Increase:11.85%\n"
          ],
          "name": "stdout"
        }
      ]
    },
    {
      "cell_type": "code",
      "metadata": {
        "id": "6mRAsGqOcsJ5",
        "colab_type": "code",
        "colab": {}
      },
      "source": [
        ""
      ],
      "execution_count": 0,
      "outputs": []
    }
  ]
}
